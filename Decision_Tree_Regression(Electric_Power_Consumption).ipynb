{
 "cells": [
  {
   "cell_type": "markdown",
   "metadata": {
    "id": "Z0-5rQgwXMFe"
   },
   "source": [
    "## Importing Required Libraries"
   ]
  },
  {
   "cell_type": "code",
   "execution_count": 2,
   "metadata": {
    "id": "l0UkjSVsW1EK"
   },
   "outputs": [],
   "source": [
    "import pandas as pd\n",
    "import numpy as np\n",
    "import matplotlib.pyplot as plt\n",
    "%matplotlib inline\n",
    "import seaborn as sns\n",
    "from warnings import filterwarnings\n",
    "filterwarnings('ignore')"
   ]
  },
  {
   "cell_type": "markdown",
   "metadata": {
    "id": "byThQQnEXV_S"
   },
   "source": [
    "## Loading Dataset"
   ]
  },
  {
   "cell_type": "code",
   "execution_count": 4,
   "metadata": {
    "colab": {
     "base_uri": "https://localhost:8080/"
    },
    "id": "wU85ayNHXSzi",
    "outputId": "44d6ab79-cb5a-4c5d-deaf-1bab28ba700d"
   },
   "outputs": [
    {
     "name": "stdout",
     "output_type": "stream",
     "text": [
      "Mounted at /content/drive\n"
     ]
    }
   ],
   "source": [
    "from google.colab import drive\n",
    "\n",
    "drive.mount('/content/drive')"
   ]
  },
  {
   "cell_type": "code",
   "execution_count": 9,
   "metadata": {
    "colab": {
     "base_uri": "https://localhost:8080/",
     "height": 206
    },
    "id": "XhEA6SyLXav5",
    "outputId": "efe8bad8-0d4d-4d89-ee16-9d65b25e3cec"
   },
   "outputs": [
    {
     "data": {
      "text/html": [
       "\n",
       "  <div id=\"df-6f23af50-ba8c-4179-b35b-2e4fbc1b08b1\">\n",
       "    <div class=\"colab-df-container\">\n",
       "      <div>\n",
       "<style scoped>\n",
       "    .dataframe tbody tr th:only-of-type {\n",
       "        vertical-align: middle;\n",
       "    }\n",
       "\n",
       "    .dataframe tbody tr th {\n",
       "        vertical-align: top;\n",
       "    }\n",
       "\n",
       "    .dataframe thead th {\n",
       "        text-align: right;\n",
       "    }\n",
       "</style>\n",
       "<table border=\"1\" class=\"dataframe\">\n",
       "  <thead>\n",
       "    <tr style=\"text-align: right;\">\n",
       "      <th></th>\n",
       "      <th>Date</th>\n",
       "      <th>Time</th>\n",
       "      <th>Global_active_power</th>\n",
       "      <th>Global_reactive_power</th>\n",
       "      <th>Voltage</th>\n",
       "      <th>Global_intensity</th>\n",
       "      <th>Sub_metering_1</th>\n",
       "      <th>Sub_metering_2</th>\n",
       "      <th>Sub_metering_3</th>\n",
       "    </tr>\n",
       "  </thead>\n",
       "  <tbody>\n",
       "    <tr>\n",
       "      <th>0</th>\n",
       "      <td>16/12/2006</td>\n",
       "      <td>17:24:00</td>\n",
       "      <td>4.216</td>\n",
       "      <td>0.418</td>\n",
       "      <td>234.840</td>\n",
       "      <td>18.400</td>\n",
       "      <td>0.000</td>\n",
       "      <td>1.000</td>\n",
       "      <td>17.0</td>\n",
       "    </tr>\n",
       "    <tr>\n",
       "      <th>1</th>\n",
       "      <td>16/12/2006</td>\n",
       "      <td>17:25:00</td>\n",
       "      <td>5.360</td>\n",
       "      <td>0.436</td>\n",
       "      <td>233.630</td>\n",
       "      <td>23.000</td>\n",
       "      <td>0.000</td>\n",
       "      <td>1.000</td>\n",
       "      <td>16.0</td>\n",
       "    </tr>\n",
       "    <tr>\n",
       "      <th>2</th>\n",
       "      <td>16/12/2006</td>\n",
       "      <td>17:26:00</td>\n",
       "      <td>5.374</td>\n",
       "      <td>0.498</td>\n",
       "      <td>233.290</td>\n",
       "      <td>23.000</td>\n",
       "      <td>0.000</td>\n",
       "      <td>2.000</td>\n",
       "      <td>17.0</td>\n",
       "    </tr>\n",
       "    <tr>\n",
       "      <th>3</th>\n",
       "      <td>16/12/2006</td>\n",
       "      <td>17:27:00</td>\n",
       "      <td>5.388</td>\n",
       "      <td>0.502</td>\n",
       "      <td>233.740</td>\n",
       "      <td>23.000</td>\n",
       "      <td>0.000</td>\n",
       "      <td>1.000</td>\n",
       "      <td>17.0</td>\n",
       "    </tr>\n",
       "    <tr>\n",
       "      <th>4</th>\n",
       "      <td>16/12/2006</td>\n",
       "      <td>17:28:00</td>\n",
       "      <td>3.666</td>\n",
       "      <td>0.528</td>\n",
       "      <td>235.680</td>\n",
       "      <td>15.800</td>\n",
       "      <td>0.000</td>\n",
       "      <td>1.000</td>\n",
       "      <td>17.0</td>\n",
       "    </tr>\n",
       "  </tbody>\n",
       "</table>\n",
       "</div>\n",
       "      <button class=\"colab-df-convert\" onclick=\"convertToInteractive('df-6f23af50-ba8c-4179-b35b-2e4fbc1b08b1')\"\n",
       "              title=\"Convert this dataframe to an interactive table.\"\n",
       "              style=\"display:none;\">\n",
       "        \n",
       "  <svg xmlns=\"http://www.w3.org/2000/svg\" height=\"24px\"viewBox=\"0 0 24 24\"\n",
       "       width=\"24px\">\n",
       "    <path d=\"M0 0h24v24H0V0z\" fill=\"none\"/>\n",
       "    <path d=\"M18.56 5.44l.94 2.06.94-2.06 2.06-.94-2.06-.94-.94-2.06-.94 2.06-2.06.94zm-11 1L8.5 8.5l.94-2.06 2.06-.94-2.06-.94L8.5 2.5l-.94 2.06-2.06.94zm10 10l.94 2.06.94-2.06 2.06-.94-2.06-.94-.94-2.06-.94 2.06-2.06.94z\"/><path d=\"M17.41 7.96l-1.37-1.37c-.4-.4-.92-.59-1.43-.59-.52 0-1.04.2-1.43.59L10.3 9.45l-7.72 7.72c-.78.78-.78 2.05 0 2.83L4 21.41c.39.39.9.59 1.41.59.51 0 1.02-.2 1.41-.59l7.78-7.78 2.81-2.81c.8-.78.8-2.07 0-2.86zM5.41 20L4 18.59l7.72-7.72 1.47 1.35L5.41 20z\"/>\n",
       "  </svg>\n",
       "      </button>\n",
       "      \n",
       "  <style>\n",
       "    .colab-df-container {\n",
       "      display:flex;\n",
       "      flex-wrap:wrap;\n",
       "      gap: 12px;\n",
       "    }\n",
       "\n",
       "    .colab-df-convert {\n",
       "      background-color: #E8F0FE;\n",
       "      border: none;\n",
       "      border-radius: 50%;\n",
       "      cursor: pointer;\n",
       "      display: none;\n",
       "      fill: #1967D2;\n",
       "      height: 32px;\n",
       "      padding: 0 0 0 0;\n",
       "      width: 32px;\n",
       "    }\n",
       "\n",
       "    .colab-df-convert:hover {\n",
       "      background-color: #E2EBFA;\n",
       "      box-shadow: 0px 1px 2px rgba(60, 64, 67, 0.3), 0px 1px 3px 1px rgba(60, 64, 67, 0.15);\n",
       "      fill: #174EA6;\n",
       "    }\n",
       "\n",
       "    [theme=dark] .colab-df-convert {\n",
       "      background-color: #3B4455;\n",
       "      fill: #D2E3FC;\n",
       "    }\n",
       "\n",
       "    [theme=dark] .colab-df-convert:hover {\n",
       "      background-color: #434B5C;\n",
       "      box-shadow: 0px 1px 3px 1px rgba(0, 0, 0, 0.15);\n",
       "      filter: drop-shadow(0px 1px 2px rgba(0, 0, 0, 0.3));\n",
       "      fill: #FFFFFF;\n",
       "    }\n",
       "  </style>\n",
       "\n",
       "      <script>\n",
       "        const buttonEl =\n",
       "          document.querySelector('#df-6f23af50-ba8c-4179-b35b-2e4fbc1b08b1 button.colab-df-convert');\n",
       "        buttonEl.style.display =\n",
       "          google.colab.kernel.accessAllowed ? 'block' : 'none';\n",
       "\n",
       "        async function convertToInteractive(key) {\n",
       "          const element = document.querySelector('#df-6f23af50-ba8c-4179-b35b-2e4fbc1b08b1');\n",
       "          const dataTable =\n",
       "            await google.colab.kernel.invokeFunction('convertToInteractive',\n",
       "                                                     [key], {});\n",
       "          if (!dataTable) return;\n",
       "\n",
       "          const docLinkHtml = 'Like what you see? Visit the ' +\n",
       "            '<a target=\"_blank\" href=https://colab.research.google.com/notebooks/data_table.ipynb>data table notebook</a>'\n",
       "            + ' to learn more about interactive tables.';\n",
       "          element.innerHTML = '';\n",
       "          dataTable['output_type'] = 'display_data';\n",
       "          await google.colab.output.renderOutput(dataTable, element);\n",
       "          const docLink = document.createElement('div');\n",
       "          docLink.innerHTML = docLinkHtml;\n",
       "          element.appendChild(docLink);\n",
       "        }\n",
       "      </script>\n",
       "    </div>\n",
       "  </div>\n",
       "  "
      ],
      "text/plain": [
       "         Date      Time Global_active_power Global_reactive_power  Voltage  \\\n",
       "0  16/12/2006  17:24:00               4.216                 0.418  234.840   \n",
       "1  16/12/2006  17:25:00               5.360                 0.436  233.630   \n",
       "2  16/12/2006  17:26:00               5.374                 0.498  233.290   \n",
       "3  16/12/2006  17:27:00               5.388                 0.502  233.740   \n",
       "4  16/12/2006  17:28:00               3.666                 0.528  235.680   \n",
       "\n",
       "  Global_intensity Sub_metering_1 Sub_metering_2  Sub_metering_3  \n",
       "0           18.400          0.000          1.000            17.0  \n",
       "1           23.000          0.000          1.000            16.0  \n",
       "2           23.000          0.000          2.000            17.0  \n",
       "3           23.000          0.000          1.000            17.0  \n",
       "4           15.800          0.000          1.000            17.0  "
      ]
     },
     "execution_count": 9,
     "metadata": {},
     "output_type": "execute_result"
    }
   ],
   "source": [
    "import pandas as pd\n",
    "\n",
    "data = pd.read_csv(\"/content/drive/MyDrive/CSV_FILE/household_power_consumption.txt\",delimiter=\";\")\n",
    "data.head()"
   ]
  },
  {
   "cell_type": "markdown",
   "metadata": {
    "id": "_a_YflwXZzii"
   },
   "source": [
    "## Check The Shape of entire Dataset"
   ]
  },
  {
   "cell_type": "code",
   "execution_count": 10,
   "metadata": {
    "colab": {
     "base_uri": "https://localhost:8080/"
    },
    "id": "qAFFt_TyZQAo",
    "outputId": "754fb663-842f-4c42-d4da-fa13aa300011"
   },
   "outputs": [
    {
     "data": {
      "text/plain": [
       "(2075259, 9)"
      ]
     },
     "execution_count": 10,
     "metadata": {},
     "output_type": "execute_result"
    }
   ],
   "source": [
    "data.shape"
   ]
  },
  {
   "cell_type": "markdown",
   "metadata": {
    "id": "XC1GdVc452AH"
   },
   "source": [
    "## Taking Sample Data of 50K"
   ]
  },
  {
   "cell_type": "code",
   "execution_count": 11,
   "metadata": {
    "id": "ib9gU9QaZ6ap"
   },
   "outputs": [],
   "source": [
    "data = data.sample(n=50000,ignore_index=True)"
   ]
  },
  {
   "cell_type": "code",
   "execution_count": 12,
   "metadata": {
    "colab": {
     "base_uri": "https://localhost:8080/"
    },
    "id": "WQ1drO37aFU2",
    "outputId": "685228b2-5ced-4a14-f0ed-39ebbff3f2a0"
   },
   "outputs": [
    {
     "data": {
      "text/plain": [
       "(50000, 9)"
      ]
     },
     "execution_count": 12,
     "metadata": {},
     "output_type": "execute_result"
    }
   ],
   "source": [
    "data.shape"
   ]
  },
  {
   "cell_type": "markdown",
   "metadata": {
    "id": "c-q3N4Sd59XU"
   },
   "source": [
    "## EDA And Data Cleaning"
   ]
  },
  {
   "cell_type": "markdown",
   "metadata": {
    "id": "v78WyXZ95_Ti"
   },
   "source": [
    "#### Checking The Type of Dataset"
   ]
  },
  {
   "cell_type": "code",
   "execution_count": 13,
   "metadata": {
    "colab": {
     "base_uri": "https://localhost:8080/"
    },
    "id": "o3nz_UGXaHUD",
    "outputId": "61004dcb-ebfa-4b6d-d179-390f8b7f6e87"
   },
   "outputs": [
    {
     "name": "stdout",
     "output_type": "stream",
     "text": [
      "<class 'pandas.core.frame.DataFrame'>\n",
      "RangeIndex: 50000 entries, 0 to 49999\n",
      "Data columns (total 9 columns):\n",
      " #   Column                 Non-Null Count  Dtype  \n",
      "---  ------                 --------------  -----  \n",
      " 0   Date                   50000 non-null  object \n",
      " 1   Time                   50000 non-null  object \n",
      " 2   Global_active_power    50000 non-null  object \n",
      " 3   Global_reactive_power  50000 non-null  object \n",
      " 4   Voltage                50000 non-null  object \n",
      " 5   Global_intensity       50000 non-null  object \n",
      " 6   Sub_metering_1         50000 non-null  object \n",
      " 7   Sub_metering_2         50000 non-null  object \n",
      " 8   Sub_metering_3         49328 non-null  float64\n",
      "dtypes: float64(1), object(8)\n",
      "memory usage: 3.4+ MB\n"
     ]
    }
   ],
   "source": [
    "data.info()"
   ]
  },
  {
   "cell_type": "markdown",
   "metadata": {
    "id": "LjFjs4Oc6GOH"
   },
   "source": [
    "#### Splitting The Date value into Day, Month, Year"
   ]
  },
  {
   "cell_type": "code",
   "execution_count": 14,
   "metadata": {
    "id": "F7ATg_AHaKnz"
   },
   "outputs": [],
   "source": [
    "data[\"Date\"] = pd.to_datetime(data[\"Date\"])"
   ]
  },
  {
   "cell_type": "code",
   "execution_count": 15,
   "metadata": {
    "id": "I18zmLiFaO3M"
   },
   "outputs": [],
   "source": [
    "data['Day'] = data['Date'].dt.day\n",
    "data['Month'] = data['Date'].dt.month\n",
    "data['Year'] = data['Date'].dt.year"
   ]
  },
  {
   "cell_type": "markdown",
   "metadata": {
    "id": "RSF8rmgy6MT8"
   },
   "source": [
    "#### Splitting The Time value into Hour, Minute"
   ]
  },
  {
   "cell_type": "code",
   "execution_count": 16,
   "metadata": {
    "id": "K86LIbC7aRnR"
   },
   "outputs": [],
   "source": [
    "data[\"Time\"] = pd.to_datetime(data[\"Time\"])"
   ]
  },
  {
   "cell_type": "code",
   "execution_count": 17,
   "metadata": {
    "id": "3iylxWNfaUPd"
   },
   "outputs": [],
   "source": [
    "data['Hour'] = data['Time'].dt.hour\n",
    "data['Minute'] = data['Time'].dt.minute"
   ]
  },
  {
   "cell_type": "markdown",
   "metadata": {
    "id": "YabanM696R8h"
   },
   "source": [
    "#### Removing Date And Time column"
   ]
  },
  {
   "cell_type": "code",
   "execution_count": 18,
   "metadata": {
    "id": "Xn-yrMScaWps"
   },
   "outputs": [],
   "source": [
    "data.drop(['Date','Time'],axis=1,inplace=True)"
   ]
  },
  {
   "cell_type": "markdown",
   "metadata": {
    "id": "K7CnajWe6VDy"
   },
   "source": [
    "#### Replacing '?' with NaN values"
   ]
  },
  {
   "cell_type": "code",
   "execution_count": 19,
   "metadata": {
    "id": "6w-_nY9DabGV"
   },
   "outputs": [],
   "source": [
    "for colum in data.columns:\n",
    "    data[colum].replace('?',np.nan,inplace=True)"
   ]
  },
  {
   "cell_type": "markdown",
   "metadata": {
    "id": "vYrj1h2M6ZVZ"
   },
   "source": [
    "#### Changing the Data Type of some features from object to float"
   ]
  },
  {
   "cell_type": "code",
   "execution_count": 20,
   "metadata": {
    "id": "dI_G3NARadlS"
   },
   "outputs": [],
   "source": [
    "for colum in data.columns[:6]:\n",
    "    data[colum] = data[colum].astype(float)"
   ]
  },
  {
   "cell_type": "code",
   "execution_count": 21,
   "metadata": {
    "colab": {
     "base_uri": "https://localhost:8080/"
    },
    "id": "8pHdcTmMagBV",
    "outputId": "d20cf40c-0df1-4e01-8af0-acac0a2e6bcb"
   },
   "outputs": [
    {
     "name": "stdout",
     "output_type": "stream",
     "text": [
      "<class 'pandas.core.frame.DataFrame'>\n",
      "RangeIndex: 50000 entries, 0 to 49999\n",
      "Data columns (total 12 columns):\n",
      " #   Column                 Non-Null Count  Dtype  \n",
      "---  ------                 --------------  -----  \n",
      " 0   Global_active_power    49328 non-null  float64\n",
      " 1   Global_reactive_power  49328 non-null  float64\n",
      " 2   Voltage                49328 non-null  float64\n",
      " 3   Global_intensity       49328 non-null  float64\n",
      " 4   Sub_metering_1         49328 non-null  float64\n",
      " 5   Sub_metering_2         49328 non-null  float64\n",
      " 6   Sub_metering_3         49328 non-null  float64\n",
      " 7   Day                    50000 non-null  int64  \n",
      " 8   Month                  50000 non-null  int64  \n",
      " 9   Year                   50000 non-null  int64  \n",
      " 10  Hour                   50000 non-null  int64  \n",
      " 11  Minute                 50000 non-null  int64  \n",
      "dtypes: float64(7), int64(5)\n",
      "memory usage: 4.6 MB\n"
     ]
    }
   ],
   "source": [
    "data.info()"
   ]
  },
  {
   "cell_type": "markdown",
   "metadata": {
    "id": "kPgnsx8F6hwj"
   },
   "source": [
    "#### Merging Sub_metering_1, Sub_metering_1, Sub_metering_1 into Total_Consumption"
   ]
  },
  {
   "cell_type": "code",
   "execution_count": 22,
   "metadata": {
    "id": "V1VhaF4Vai74"
   },
   "outputs": [],
   "source": [
    "data['Total Consumption'] = data['Sub_metering_1'] + data['Sub_metering_2'] + data['Sub_metering_3']"
   ]
  },
  {
   "cell_type": "code",
   "execution_count": 23,
   "metadata": {
    "id": "4YBTBmbOanYw"
   },
   "outputs": [],
   "source": [
    "data.drop(['Sub_metering_1','Sub_metering_2','Sub_metering_3'],axis=1,inplace=True)"
   ]
  },
  {
   "cell_type": "markdown",
   "metadata": {
    "id": "k6A7Y_wU6oE7"
   },
   "source": [
    "### Dealing With Null Values"
   ]
  },
  {
   "cell_type": "markdown",
   "metadata": {
    "id": "SrARpwUz6pow"
   },
   "source": [
    "#### Checking Null values"
   ]
  },
  {
   "cell_type": "code",
   "execution_count": 24,
   "metadata": {
    "colab": {
     "base_uri": "https://localhost:8080/"
    },
    "id": "AzyH5quTapxO",
    "outputId": "d3917fb2-60f7-43f8-cd8e-ec71aceaf49f"
   },
   "outputs": [
    {
     "data": {
      "text/plain": [
       "Global_active_power      672\n",
       "Global_reactive_power    672\n",
       "Voltage                  672\n",
       "Global_intensity         672\n",
       "Day                        0\n",
       "Month                      0\n",
       "Year                       0\n",
       "Hour                       0\n",
       "Minute                     0\n",
       "Total Consumption        672\n",
       "dtype: int64"
      ]
     },
     "execution_count": 24,
     "metadata": {},
     "output_type": "execute_result"
    }
   ],
   "source": [
    "data.isnull().sum()"
   ]
  },
  {
   "cell_type": "markdown",
   "metadata": {
    "id": "E7KInLZ760Nc"
   },
   "source": [
    "#### Removing Null Values"
   ]
  },
  {
   "cell_type": "code",
   "execution_count": 25,
   "metadata": {
    "id": "4F471aCrasjT"
   },
   "outputs": [],
   "source": [
    "data.dropna(inplace=True)"
   ]
  },
  {
   "cell_type": "markdown",
   "metadata": {
    "id": "bO1AobxW61pn"
   },
   "source": [
    "### Checking For Duplicate Values"
   ]
  },
  {
   "cell_type": "code",
   "execution_count": 26,
   "metadata": {
    "colab": {
     "base_uri": "https://localhost:8080/"
    },
    "id": "4JY9iQsoayQo",
    "outputId": "a4627d06-1a98-4053-8c91-009b36409739"
   },
   "outputs": [
    {
     "data": {
      "text/plain": [
       "0"
      ]
     },
     "execution_count": 26,
     "metadata": {},
     "output_type": "execute_result"
    }
   ],
   "source": [
    "data.duplicated().sum()"
   ]
  },
  {
   "cell_type": "markdown",
   "metadata": {
    "id": "t-QQ7s1v67gn"
   },
   "source": [
    "## Final Dataset"
   ]
  },
  {
   "cell_type": "code",
   "execution_count": 27,
   "metadata": {
    "colab": {
     "base_uri": "https://localhost:8080/",
     "height": 206
    },
    "id": "6tqHguuaa2aQ",
    "outputId": "01a8a219-2800-4fea-decc-1904a1da8ef5"
   },
   "outputs": [
    {
     "data": {
      "text/html": [
       "\n",
       "  <div id=\"df-11f602bb-586e-42cf-a588-de70e7605ac4\">\n",
       "    <div class=\"colab-df-container\">\n",
       "      <div>\n",
       "<style scoped>\n",
       "    .dataframe tbody tr th:only-of-type {\n",
       "        vertical-align: middle;\n",
       "    }\n",
       "\n",
       "    .dataframe tbody tr th {\n",
       "        vertical-align: top;\n",
       "    }\n",
       "\n",
       "    .dataframe thead th {\n",
       "        text-align: right;\n",
       "    }\n",
       "</style>\n",
       "<table border=\"1\" class=\"dataframe\">\n",
       "  <thead>\n",
       "    <tr style=\"text-align: right;\">\n",
       "      <th></th>\n",
       "      <th>Global_active_power</th>\n",
       "      <th>Global_reactive_power</th>\n",
       "      <th>Voltage</th>\n",
       "      <th>Global_intensity</th>\n",
       "      <th>Day</th>\n",
       "      <th>Month</th>\n",
       "      <th>Year</th>\n",
       "      <th>Hour</th>\n",
       "      <th>Minute</th>\n",
       "      <th>Total Consumption</th>\n",
       "    </tr>\n",
       "  </thead>\n",
       "  <tbody>\n",
       "    <tr>\n",
       "      <th>0</th>\n",
       "      <td>0.406</td>\n",
       "      <td>0.142</td>\n",
       "      <td>242.24</td>\n",
       "      <td>1.8</td>\n",
       "      <td>23</td>\n",
       "      <td>4</td>\n",
       "      <td>2009</td>\n",
       "      <td>18</td>\n",
       "      <td>46</td>\n",
       "      <td>1.0</td>\n",
       "    </tr>\n",
       "    <tr>\n",
       "      <th>1</th>\n",
       "      <td>2.732</td>\n",
       "      <td>0.234</td>\n",
       "      <td>238.75</td>\n",
       "      <td>11.4</td>\n",
       "      <td>28</td>\n",
       "      <td>9</td>\n",
       "      <td>2009</td>\n",
       "      <td>22</td>\n",
       "      <td>10</td>\n",
       "      <td>29.0</td>\n",
       "    </tr>\n",
       "    <tr>\n",
       "      <th>2</th>\n",
       "      <td>0.140</td>\n",
       "      <td>0.000</td>\n",
       "      <td>240.57</td>\n",
       "      <td>0.6</td>\n",
       "      <td>8</td>\n",
       "      <td>1</td>\n",
       "      <td>2008</td>\n",
       "      <td>15</td>\n",
       "      <td>28</td>\n",
       "      <td>0.0</td>\n",
       "    </tr>\n",
       "    <tr>\n",
       "      <th>3</th>\n",
       "      <td>0.256</td>\n",
       "      <td>0.000</td>\n",
       "      <td>245.48</td>\n",
       "      <td>1.0</td>\n",
       "      <td>11</td>\n",
       "      <td>11</td>\n",
       "      <td>2009</td>\n",
       "      <td>0</td>\n",
       "      <td>51</td>\n",
       "      <td>1.0</td>\n",
       "    </tr>\n",
       "    <tr>\n",
       "      <th>4</th>\n",
       "      <td>0.324</td>\n",
       "      <td>0.070</td>\n",
       "      <td>243.79</td>\n",
       "      <td>1.4</td>\n",
       "      <td>21</td>\n",
       "      <td>12</td>\n",
       "      <td>2007</td>\n",
       "      <td>23</td>\n",
       "      <td>35</td>\n",
       "      <td>0.0</td>\n",
       "    </tr>\n",
       "  </tbody>\n",
       "</table>\n",
       "</div>\n",
       "      <button class=\"colab-df-convert\" onclick=\"convertToInteractive('df-11f602bb-586e-42cf-a588-de70e7605ac4')\"\n",
       "              title=\"Convert this dataframe to an interactive table.\"\n",
       "              style=\"display:none;\">\n",
       "        \n",
       "  <svg xmlns=\"http://www.w3.org/2000/svg\" height=\"24px\"viewBox=\"0 0 24 24\"\n",
       "       width=\"24px\">\n",
       "    <path d=\"M0 0h24v24H0V0z\" fill=\"none\"/>\n",
       "    <path d=\"M18.56 5.44l.94 2.06.94-2.06 2.06-.94-2.06-.94-.94-2.06-.94 2.06-2.06.94zm-11 1L8.5 8.5l.94-2.06 2.06-.94-2.06-.94L8.5 2.5l-.94 2.06-2.06.94zm10 10l.94 2.06.94-2.06 2.06-.94-2.06-.94-.94-2.06-.94 2.06-2.06.94z\"/><path d=\"M17.41 7.96l-1.37-1.37c-.4-.4-.92-.59-1.43-.59-.52 0-1.04.2-1.43.59L10.3 9.45l-7.72 7.72c-.78.78-.78 2.05 0 2.83L4 21.41c.39.39.9.59 1.41.59.51 0 1.02-.2 1.41-.59l7.78-7.78 2.81-2.81c.8-.78.8-2.07 0-2.86zM5.41 20L4 18.59l7.72-7.72 1.47 1.35L5.41 20z\"/>\n",
       "  </svg>\n",
       "      </button>\n",
       "      \n",
       "  <style>\n",
       "    .colab-df-container {\n",
       "      display:flex;\n",
       "      flex-wrap:wrap;\n",
       "      gap: 12px;\n",
       "    }\n",
       "\n",
       "    .colab-df-convert {\n",
       "      background-color: #E8F0FE;\n",
       "      border: none;\n",
       "      border-radius: 50%;\n",
       "      cursor: pointer;\n",
       "      display: none;\n",
       "      fill: #1967D2;\n",
       "      height: 32px;\n",
       "      padding: 0 0 0 0;\n",
       "      width: 32px;\n",
       "    }\n",
       "\n",
       "    .colab-df-convert:hover {\n",
       "      background-color: #E2EBFA;\n",
       "      box-shadow: 0px 1px 2px rgba(60, 64, 67, 0.3), 0px 1px 3px 1px rgba(60, 64, 67, 0.15);\n",
       "      fill: #174EA6;\n",
       "    }\n",
       "\n",
       "    [theme=dark] .colab-df-convert {\n",
       "      background-color: #3B4455;\n",
       "      fill: #D2E3FC;\n",
       "    }\n",
       "\n",
       "    [theme=dark] .colab-df-convert:hover {\n",
       "      background-color: #434B5C;\n",
       "      box-shadow: 0px 1px 3px 1px rgba(0, 0, 0, 0.15);\n",
       "      filter: drop-shadow(0px 1px 2px rgba(0, 0, 0, 0.3));\n",
       "      fill: #FFFFFF;\n",
       "    }\n",
       "  </style>\n",
       "\n",
       "      <script>\n",
       "        const buttonEl =\n",
       "          document.querySelector('#df-11f602bb-586e-42cf-a588-de70e7605ac4 button.colab-df-convert');\n",
       "        buttonEl.style.display =\n",
       "          google.colab.kernel.accessAllowed ? 'block' : 'none';\n",
       "\n",
       "        async function convertToInteractive(key) {\n",
       "          const element = document.querySelector('#df-11f602bb-586e-42cf-a588-de70e7605ac4');\n",
       "          const dataTable =\n",
       "            await google.colab.kernel.invokeFunction('convertToInteractive',\n",
       "                                                     [key], {});\n",
       "          if (!dataTable) return;\n",
       "\n",
       "          const docLinkHtml = 'Like what you see? Visit the ' +\n",
       "            '<a target=\"_blank\" href=https://colab.research.google.com/notebooks/data_table.ipynb>data table notebook</a>'\n",
       "            + ' to learn more about interactive tables.';\n",
       "          element.innerHTML = '';\n",
       "          dataTable['output_type'] = 'display_data';\n",
       "          await google.colab.output.renderOutput(dataTable, element);\n",
       "          const docLink = document.createElement('div');\n",
       "          docLink.innerHTML = docLinkHtml;\n",
       "          element.appendChild(docLink);\n",
       "        }\n",
       "      </script>\n",
       "    </div>\n",
       "  </div>\n",
       "  "
      ],
      "text/plain": [
       "   Global_active_power  Global_reactive_power  Voltage  Global_intensity  Day  \\\n",
       "0                0.406                  0.142   242.24               1.8   23   \n",
       "1                2.732                  0.234   238.75              11.4   28   \n",
       "2                0.140                  0.000   240.57               0.6    8   \n",
       "3                0.256                  0.000   245.48               1.0   11   \n",
       "4                0.324                  0.070   243.79               1.4   21   \n",
       "\n",
       "   Month  Year  Hour  Minute  Total Consumption  \n",
       "0      4  2009    18      46                1.0  \n",
       "1      9  2009    22      10               29.0  \n",
       "2      1  2008    15      28                0.0  \n",
       "3     11  2009     0      51                1.0  \n",
       "4     12  2007    23      35                0.0  "
      ]
     },
     "execution_count": 27,
     "metadata": {},
     "output_type": "execute_result"
    }
   ],
   "source": [
    "data.head()"
   ]
  },
  {
   "cell_type": "code",
   "execution_count": 28,
   "metadata": {
    "colab": {
     "base_uri": "https://localhost:8080/"
    },
    "id": "WjfnLmfMa6ZV",
    "outputId": "c694f3b2-f4fb-434e-cd6f-9951605b7093"
   },
   "outputs": [
    {
     "data": {
      "text/plain": [
       "(49328, 10)"
      ]
     },
     "execution_count": 28,
     "metadata": {},
     "output_type": "execute_result"
    }
   ],
   "source": [
    "data.shape"
   ]
  },
  {
   "cell_type": "markdown",
   "metadata": {
    "id": "ba_C-yDA7CQJ"
   },
   "source": [
    "## Decision Tree Regression"
   ]
  },
  {
   "cell_type": "markdown",
   "metadata": {
    "id": "EM5LW8dl7ENA"
   },
   "source": [
    "#### Independent And Dependent Features"
   ]
  },
  {
   "cell_type": "code",
   "execution_count": 29,
   "metadata": {
    "id": "Q_2I4Jela_Cj"
   },
   "outputs": [],
   "source": [
    "X = data.iloc[:,:-1]\n",
    "y = data.iloc[:,9]"
   ]
  },
  {
   "cell_type": "code",
   "execution_count": 30,
   "metadata": {
    "colab": {
     "base_uri": "https://localhost:8080/",
     "height": 206
    },
    "id": "hjHQ_K7AbCY5",
    "outputId": "1290b070-eae8-47ff-f84b-6f89542b66a6"
   },
   "outputs": [
    {
     "data": {
      "text/html": [
       "\n",
       "  <div id=\"df-c0028916-3b53-4492-89e3-e2b984519dda\">\n",
       "    <div class=\"colab-df-container\">\n",
       "      <div>\n",
       "<style scoped>\n",
       "    .dataframe tbody tr th:only-of-type {\n",
       "        vertical-align: middle;\n",
       "    }\n",
       "\n",
       "    .dataframe tbody tr th {\n",
       "        vertical-align: top;\n",
       "    }\n",
       "\n",
       "    .dataframe thead th {\n",
       "        text-align: right;\n",
       "    }\n",
       "</style>\n",
       "<table border=\"1\" class=\"dataframe\">\n",
       "  <thead>\n",
       "    <tr style=\"text-align: right;\">\n",
       "      <th></th>\n",
       "      <th>Global_active_power</th>\n",
       "      <th>Global_reactive_power</th>\n",
       "      <th>Voltage</th>\n",
       "      <th>Global_intensity</th>\n",
       "      <th>Day</th>\n",
       "      <th>Month</th>\n",
       "      <th>Year</th>\n",
       "      <th>Hour</th>\n",
       "      <th>Minute</th>\n",
       "    </tr>\n",
       "  </thead>\n",
       "  <tbody>\n",
       "    <tr>\n",
       "      <th>0</th>\n",
       "      <td>0.406</td>\n",
       "      <td>0.142</td>\n",
       "      <td>242.24</td>\n",
       "      <td>1.8</td>\n",
       "      <td>23</td>\n",
       "      <td>4</td>\n",
       "      <td>2009</td>\n",
       "      <td>18</td>\n",
       "      <td>46</td>\n",
       "    </tr>\n",
       "    <tr>\n",
       "      <th>1</th>\n",
       "      <td>2.732</td>\n",
       "      <td>0.234</td>\n",
       "      <td>238.75</td>\n",
       "      <td>11.4</td>\n",
       "      <td>28</td>\n",
       "      <td>9</td>\n",
       "      <td>2009</td>\n",
       "      <td>22</td>\n",
       "      <td>10</td>\n",
       "    </tr>\n",
       "    <tr>\n",
       "      <th>2</th>\n",
       "      <td>0.140</td>\n",
       "      <td>0.000</td>\n",
       "      <td>240.57</td>\n",
       "      <td>0.6</td>\n",
       "      <td>8</td>\n",
       "      <td>1</td>\n",
       "      <td>2008</td>\n",
       "      <td>15</td>\n",
       "      <td>28</td>\n",
       "    </tr>\n",
       "    <tr>\n",
       "      <th>3</th>\n",
       "      <td>0.256</td>\n",
       "      <td>0.000</td>\n",
       "      <td>245.48</td>\n",
       "      <td>1.0</td>\n",
       "      <td>11</td>\n",
       "      <td>11</td>\n",
       "      <td>2009</td>\n",
       "      <td>0</td>\n",
       "      <td>51</td>\n",
       "    </tr>\n",
       "    <tr>\n",
       "      <th>4</th>\n",
       "      <td>0.324</td>\n",
       "      <td>0.070</td>\n",
       "      <td>243.79</td>\n",
       "      <td>1.4</td>\n",
       "      <td>21</td>\n",
       "      <td>12</td>\n",
       "      <td>2007</td>\n",
       "      <td>23</td>\n",
       "      <td>35</td>\n",
       "    </tr>\n",
       "  </tbody>\n",
       "</table>\n",
       "</div>\n",
       "      <button class=\"colab-df-convert\" onclick=\"convertToInteractive('df-c0028916-3b53-4492-89e3-e2b984519dda')\"\n",
       "              title=\"Convert this dataframe to an interactive table.\"\n",
       "              style=\"display:none;\">\n",
       "        \n",
       "  <svg xmlns=\"http://www.w3.org/2000/svg\" height=\"24px\"viewBox=\"0 0 24 24\"\n",
       "       width=\"24px\">\n",
       "    <path d=\"M0 0h24v24H0V0z\" fill=\"none\"/>\n",
       "    <path d=\"M18.56 5.44l.94 2.06.94-2.06 2.06-.94-2.06-.94-.94-2.06-.94 2.06-2.06.94zm-11 1L8.5 8.5l.94-2.06 2.06-.94-2.06-.94L8.5 2.5l-.94 2.06-2.06.94zm10 10l.94 2.06.94-2.06 2.06-.94-2.06-.94-.94-2.06-.94 2.06-2.06.94z\"/><path d=\"M17.41 7.96l-1.37-1.37c-.4-.4-.92-.59-1.43-.59-.52 0-1.04.2-1.43.59L10.3 9.45l-7.72 7.72c-.78.78-.78 2.05 0 2.83L4 21.41c.39.39.9.59 1.41.59.51 0 1.02-.2 1.41-.59l7.78-7.78 2.81-2.81c.8-.78.8-2.07 0-2.86zM5.41 20L4 18.59l7.72-7.72 1.47 1.35L5.41 20z\"/>\n",
       "  </svg>\n",
       "      </button>\n",
       "      \n",
       "  <style>\n",
       "    .colab-df-container {\n",
       "      display:flex;\n",
       "      flex-wrap:wrap;\n",
       "      gap: 12px;\n",
       "    }\n",
       "\n",
       "    .colab-df-convert {\n",
       "      background-color: #E8F0FE;\n",
       "      border: none;\n",
       "      border-radius: 50%;\n",
       "      cursor: pointer;\n",
       "      display: none;\n",
       "      fill: #1967D2;\n",
       "      height: 32px;\n",
       "      padding: 0 0 0 0;\n",
       "      width: 32px;\n",
       "    }\n",
       "\n",
       "    .colab-df-convert:hover {\n",
       "      background-color: #E2EBFA;\n",
       "      box-shadow: 0px 1px 2px rgba(60, 64, 67, 0.3), 0px 1px 3px 1px rgba(60, 64, 67, 0.15);\n",
       "      fill: #174EA6;\n",
       "    }\n",
       "\n",
       "    [theme=dark] .colab-df-convert {\n",
       "      background-color: #3B4455;\n",
       "      fill: #D2E3FC;\n",
       "    }\n",
       "\n",
       "    [theme=dark] .colab-df-convert:hover {\n",
       "      background-color: #434B5C;\n",
       "      box-shadow: 0px 1px 3px 1px rgba(0, 0, 0, 0.15);\n",
       "      filter: drop-shadow(0px 1px 2px rgba(0, 0, 0, 0.3));\n",
       "      fill: #FFFFFF;\n",
       "    }\n",
       "  </style>\n",
       "\n",
       "      <script>\n",
       "        const buttonEl =\n",
       "          document.querySelector('#df-c0028916-3b53-4492-89e3-e2b984519dda button.colab-df-convert');\n",
       "        buttonEl.style.display =\n",
       "          google.colab.kernel.accessAllowed ? 'block' : 'none';\n",
       "\n",
       "        async function convertToInteractive(key) {\n",
       "          const element = document.querySelector('#df-c0028916-3b53-4492-89e3-e2b984519dda');\n",
       "          const dataTable =\n",
       "            await google.colab.kernel.invokeFunction('convertToInteractive',\n",
       "                                                     [key], {});\n",
       "          if (!dataTable) return;\n",
       "\n",
       "          const docLinkHtml = 'Like what you see? Visit the ' +\n",
       "            '<a target=\"_blank\" href=https://colab.research.google.com/notebooks/data_table.ipynb>data table notebook</a>'\n",
       "            + ' to learn more about interactive tables.';\n",
       "          element.innerHTML = '';\n",
       "          dataTable['output_type'] = 'display_data';\n",
       "          await google.colab.output.renderOutput(dataTable, element);\n",
       "          const docLink = document.createElement('div');\n",
       "          docLink.innerHTML = docLinkHtml;\n",
       "          element.appendChild(docLink);\n",
       "        }\n",
       "      </script>\n",
       "    </div>\n",
       "  </div>\n",
       "  "
      ],
      "text/plain": [
       "   Global_active_power  Global_reactive_power  Voltage  Global_intensity  Day  \\\n",
       "0                0.406                  0.142   242.24               1.8   23   \n",
       "1                2.732                  0.234   238.75              11.4   28   \n",
       "2                0.140                  0.000   240.57               0.6    8   \n",
       "3                0.256                  0.000   245.48               1.0   11   \n",
       "4                0.324                  0.070   243.79               1.4   21   \n",
       "\n",
       "   Month  Year  Hour  Minute  \n",
       "0      4  2009    18      46  \n",
       "1      9  2009    22      10  \n",
       "2      1  2008    15      28  \n",
       "3     11  2009     0      51  \n",
       "4     12  2007    23      35  "
      ]
     },
     "execution_count": 30,
     "metadata": {},
     "output_type": "execute_result"
    }
   ],
   "source": [
    "X.head()"
   ]
  },
  {
   "cell_type": "code",
   "execution_count": 31,
   "metadata": {
    "colab": {
     "base_uri": "https://localhost:8080/"
    },
    "id": "VAJVp16KbFfl",
    "outputId": "30777fba-21a8-46a5-959d-cd4e32a16a68"
   },
   "outputs": [
    {
     "data": {
      "text/plain": [
       "0         1.0\n",
       "1        29.0\n",
       "2         0.0\n",
       "3         1.0\n",
       "4         0.0\n",
       "         ... \n",
       "49995     0.0\n",
       "49996     1.0\n",
       "49997     4.0\n",
       "49998     1.0\n",
       "49999     2.0\n",
       "Name: Total Consumption, Length: 49328, dtype: float64"
      ]
     },
     "execution_count": 31,
     "metadata": {},
     "output_type": "execute_result"
    }
   ],
   "source": [
    "y"
   ]
  },
  {
   "cell_type": "markdown",
   "metadata": {
    "id": "_i7nmnnS7Mat"
   },
   "source": [
    "#### Train Test Split"
   ]
  },
  {
   "cell_type": "code",
   "execution_count": 32,
   "metadata": {
    "id": "CdeR33BpbJrX"
   },
   "outputs": [],
   "source": [
    "from sklearn.model_selection import train_test_split"
   ]
  },
  {
   "cell_type": "code",
   "execution_count": 33,
   "metadata": {
    "id": "16p_LSYlbN3_"
   },
   "outputs": [],
   "source": [
    "X_train,X_test,y_train,y_test=train_test_split(X,y,test_size=0.33,random_state=10)"
   ]
  },
  {
   "cell_type": "markdown",
   "metadata": {
    "id": "CFkF4Wwt7QxZ"
   },
   "source": [
    "#### Training The Model Without Hyperparameter Tunning"
   ]
  },
  {
   "cell_type": "code",
   "execution_count": 34,
   "metadata": {
    "id": "6UF_3Ms_bQoi"
   },
   "outputs": [],
   "source": [
    "from sklearn.tree import DecisionTreeRegressor\n",
    "regressor = DecisionTreeRegressor()"
   ]
  },
  {
   "cell_type": "code",
   "execution_count": 36,
   "metadata": {
    "colab": {
     "base_uri": "https://localhost:8080/"
    },
    "id": "Xvoa-3rsbUOC",
    "outputId": "4a3fe006-2ed0-40f7-f27d-debe4309c38c"
   },
   "outputs": [
    {
     "data": {
      "text/plain": [
       "DecisionTreeRegressor()"
      ]
     },
     "execution_count": 36,
     "metadata": {},
     "output_type": "execute_result"
    }
   ],
   "source": [
    "regressor.fit(X_train,y_train)"
   ]
  },
  {
   "cell_type": "code",
   "execution_count": 37,
   "metadata": {
    "id": "U6hmoXDqbX0G"
   },
   "outputs": [],
   "source": [
    "y_pred = regressor.predict(X_test)"
   ]
  },
  {
   "cell_type": "code",
   "execution_count": 38,
   "metadata": {
    "colab": {
     "base_uri": "https://localhost:8080/"
    },
    "id": "rNJfB9KubnRy",
    "outputId": "eb79f9e1-cedb-4951-e3ff-43c8b87c198b"
   },
   "outputs": [
    {
     "data": {
      "text/plain": [
       "array([18.,  2.,  0., ...,  2.,  0., 18.])"
      ]
     },
     "execution_count": 38,
     "metadata": {},
     "output_type": "execute_result"
    }
   ],
   "source": [
    "y_pred"
   ]
  },
  {
   "cell_type": "markdown",
   "metadata": {
    "id": "6TfP4Nnd7iJt"
   },
   "source": [
    "#### Accuracy Score"
   ]
  },
  {
   "cell_type": "code",
   "execution_count": 39,
   "metadata": {
    "id": "VqMm7H30bqfJ"
   },
   "outputs": [],
   "source": [
    "from sklearn.metrics import r2_score\n",
    "score = r2_score(y_pred,y_test)"
   ]
  },
  {
   "cell_type": "code",
   "execution_count": 40,
   "metadata": {
    "colab": {
     "base_uri": "https://localhost:8080/"
    },
    "id": "dUzj1ol-bu7c",
    "outputId": "ba2961bd-d909-4c0c-f60c-2f4ae17a15f7"
   },
   "outputs": [
    {
     "data": {
      "text/plain": [
       "0.709577866918164"
      ]
     },
     "execution_count": 40,
     "metadata": {},
     "output_type": "execute_result"
    }
   ],
   "source": [
    "score"
   ]
  },
  {
   "cell_type": "markdown",
   "metadata": {
    "id": "LO0HVj5N7XUc"
   },
   "source": [
    "#### Training The Model With Hyperparameter Tuning"
   ]
  },
  {
   "cell_type": "code",
   "execution_count": 41,
   "metadata": {
    "id": "9JjF50iRbxyI"
   },
   "outputs": [],
   "source": [
    "## Hyperparameter Tunning\n",
    "parameter={\n",
    " 'criterion':['squared_error','friedman_mse','absolute_error','poisson'],\n",
    "  'splitter':['best','random'],\n",
    "  'max_depth':[1,2,3,4,5,6,7,8,10,11,12],\n",
    "  'max_features':['auto', 'sqrt', 'log2']\n",
    "    \n",
    "}"
   ]
  },
  {
   "cell_type": "code",
   "execution_count": 42,
   "metadata": {
    "id": "KsRYUGVEb1FW"
   },
   "outputs": [],
   "source": [
    "#https://scikit-learn.org/stable/modules/model_evaluation.html\n",
    "from sklearn.model_selection import GridSearchCV\n",
    "regressorcv=GridSearchCV(regressor,param_grid=parameter,cv=5,scoring='neg_mean_squared_error')"
   ]
  },
  {
   "cell_type": "code",
   "execution_count": 43,
   "metadata": {
    "colab": {
     "base_uri": "https://localhost:8080/"
    },
    "id": "_-syDH9eb4qt",
    "outputId": "50bdff9a-ddd8-4364-e678-f5674dfe9bd6"
   },
   "outputs": [
    {
     "data": {
      "text/plain": [
       "GridSearchCV(cv=5, estimator=DecisionTreeRegressor(),\n",
       "             param_grid={'criterion': ['squared_error', 'friedman_mse',\n",
       "                                       'absolute_error', 'poisson'],\n",
       "                         'max_depth': [1, 2, 3, 4, 5, 6, 7, 8, 10, 11, 12],\n",
       "                         'max_features': ['auto', 'sqrt', 'log2'],\n",
       "                         'splitter': ['best', 'random']},\n",
       "             scoring='neg_mean_squared_error')"
      ]
     },
     "execution_count": 43,
     "metadata": {},
     "output_type": "execute_result"
    }
   ],
   "source": [
    "regressorcv.fit(X_train,y_train)"
   ]
  },
  {
   "cell_type": "code",
   "execution_count": 45,
   "metadata": {
    "colab": {
     "base_uri": "https://localhost:8080/"
    },
    "id": "f8WNltcvb7ij",
    "outputId": "f3e1e79b-9656-4d00-ef26-050b7cbbbdbf"
   },
   "outputs": [
    {
     "data": {
      "text/plain": [
       "{'criterion': 'squared_error',\n",
       " 'max_depth': 7,\n",
       " 'max_features': 'auto',\n",
       " 'splitter': 'best'}"
      ]
     },
     "execution_count": 45,
     "metadata": {},
     "output_type": "execute_result"
    }
   ],
   "source": [
    "regressorcv.best_params_"
   ]
  },
  {
   "cell_type": "code",
   "execution_count": null,
   "metadata": {
    "id": "Ds4bXRO9lPeX"
   },
   "outputs": [],
   "source": [
    "(criterion='squared_error',max_depth= 7,max_features='auto',splitter='best')"
   ]
  },
  {
   "cell_type": "code",
   "execution_count": 46,
   "metadata": {
    "id": "_aokPZoIkk2Z"
   },
   "outputs": [],
   "source": [
    "regressor_best_param = DecisionTreeRegressor(criterion='squared_error',max_depth= 7,max_features='auto',splitter='best')"
   ]
  },
  {
   "cell_type": "code",
   "execution_count": 47,
   "metadata": {
    "colab": {
     "base_uri": "https://localhost:8080/"
    },
    "id": "B8RJK0YOlfms",
    "outputId": "55250ec8-958a-4ef8-edbd-235b98f1794b"
   },
   "outputs": [
    {
     "data": {
      "text/plain": [
       "DecisionTreeRegressor(max_depth=7, max_features='auto')"
      ]
     },
     "execution_count": 47,
     "metadata": {},
     "output_type": "execute_result"
    }
   ],
   "source": [
    "regressor_best_param.fit(X_train,y_train)"
   ]
  },
  {
   "cell_type": "code",
   "execution_count": 49,
   "metadata": {
    "id": "fWGEyWAplvOW"
   },
   "outputs": [],
   "source": [
    "y_pred = regressor_best_param.predict(X_test)"
   ]
  },
  {
   "cell_type": "markdown",
   "metadata": {
    "id": "KCuksOEt710P"
   },
   "source": [
    "#### Accuracy Score"
   ]
  },
  {
   "cell_type": "code",
   "execution_count": 50,
   "metadata": {
    "id": "da8s6atul1vS"
   },
   "outputs": [],
   "source": [
    "score = r2_score(y_pred,y_test)"
   ]
  },
  {
   "cell_type": "code",
   "execution_count": 51,
   "metadata": {
    "colab": {
     "base_uri": "https://localhost:8080/"
    },
    "id": "djHta4xSl8b9",
    "outputId": "6f04591e-37e9-4250-a5dc-b64a8d2f8f79"
   },
   "outputs": [
    {
     "data": {
      "text/plain": [
       "0.7671510032991007"
      ]
     },
     "execution_count": 51,
     "metadata": {},
     "output_type": "execute_result"
    }
   ],
   "source": [
    "score"
   ]
  },
  {
   "cell_type": "markdown",
   "metadata": {
    "id": "af4Agqjz7_In"
   },
   "source": [
    "#### Tree Visualization"
   ]
  },
  {
   "cell_type": "code",
   "execution_count": 52,
   "metadata": {
    "colab": {
     "base_uri": "https://localhost:8080/",
     "height": 1000
    },
    "id": "ndNgxFBCl_VE",
    "outputId": "fc305665-4eda-474b-afbb-4f60f9873ce6"
   },
   "outputs": [
    {
     "data": {
      "text/plain": [
       "[Text(0.5002604166666667, 0.9375, 'X[0] <= 1.185\\nsquared_error = 163.317\\nsamples = 33049\\nvalue = 8.75'),\n",
       " Text(0.23958333333333334, 0.8125, 'X[0] <= 0.815\\nsquared_error = 4.824\\nsamples = 19516\\nvalue = 1.133'),\n",
       " Text(0.1125, 0.6875, 'X[1] <= 0.141\\nsquared_error = 1.071\\nsamples = 18006\\nvalue = 0.81'),\n",
       " Text(0.05520833333333333, 0.5625, 'X[6] <= 2007.5\\nsquared_error = 0.726\\nsamples = 12757\\nvalue = 0.592'),\n",
       " Text(0.027083333333333334, 0.4375, 'X[3] <= 3.5\\nsquared_error = 0.365\\nsamples = 3476\\nvalue = 0.232'),\n",
       " Text(0.016666666666666666, 0.3125, 'X[1] <= 0.059\\nsquared_error = 0.312\\nsamples = 3469\\nvalue = 0.224'),\n",
       " Text(0.008333333333333333, 0.1875, 'X[0] <= 0.289\\nsquared_error = 0.138\\nsamples = 1589\\nvalue = 0.079'),\n",
       " Text(0.004166666666666667, 0.0625, 'squared_error = 0.043\\nsamples = 1282\\nvalue = 0.041'),\n",
       " Text(0.0125, 0.0625, 'squared_error = 0.507\\nsamples = 307\\nvalue = 0.238'),\n",
       " Text(0.025, 0.1875, 'X[0] <= 0.359\\nsquared_error = 0.427\\nsamples = 1880\\nvalue = 0.347'),\n",
       " Text(0.020833333333333332, 0.0625, 'squared_error = 0.334\\nsamples = 1543\\nvalue = 0.306'),\n",
       " Text(0.029166666666666667, 0.0625, 'squared_error = 0.807\\nsamples = 337\\nvalue = 0.534'),\n",
       " Text(0.0375, 0.3125, 'X[8] <= 7.5\\nsquared_error = 10.204\\nsamples = 7\\nvalue = 4.286'),\n",
       " Text(0.03333333333333333, 0.1875, 'squared_error = 0.0\\nsamples = 1\\nvalue = 11.0'),\n",
       " Text(0.041666666666666664, 0.1875, 'X[5] <= 4.0\\nsquared_error = 3.139\\nsamples = 6\\nvalue = 3.167'),\n",
       " Text(0.0375, 0.0625, 'squared_error = 1.0\\nsamples = 2\\nvalue = 1.0'),\n",
       " Text(0.04583333333333333, 0.0625, 'squared_error = 0.688\\nsamples = 4\\nvalue = 4.25'),\n",
       " Text(0.08333333333333333, 0.4375, 'X[1] <= 0.067\\nsquared_error = 0.795\\nsamples = 9281\\nvalue = 0.727'),\n",
       " Text(0.06666666666666667, 0.3125, 'X[6] <= 2009.5\\nsquared_error = 0.451\\nsamples = 4611\\nvalue = 0.532'),\n",
       " Text(0.058333333333333334, 0.1875, 'X[5] <= 3.5\\nsquared_error = 0.404\\nsamples = 3249\\nvalue = 0.439'),\n",
       " Text(0.05416666666666667, 0.0625, 'squared_error = 0.265\\nsamples = 919\\nvalue = 0.198'),\n",
       " Text(0.0625, 0.0625, 'squared_error = 0.427\\nsamples = 2330\\nvalue = 0.534'),\n",
       " Text(0.075, 0.1875, 'X[3] <= 3.6\\nsquared_error = 0.495\\nsamples = 1362\\nvalue = 0.753'),\n",
       " Text(0.07083333333333333, 0.0625, 'squared_error = 0.417\\nsamples = 1359\\nvalue = 0.744'),\n",
       " Text(0.07916666666666666, 0.0625, 'squared_error = 20.222\\nsamples = 3\\nvalue = 4.667'),\n",
       " Text(0.1, 0.3125, 'X[3] <= 2.9\\nsquared_error = 1.059\\nsamples = 4670\\nvalue = 0.92'),\n",
       " Text(0.09166666666666666, 0.1875, 'X[0] <= 0.249\\nsquared_error = 0.757\\nsamples = 4512\\nvalue = 0.89'),\n",
       " Text(0.0875, 0.0625, 'squared_error = 0.72\\nsamples = 906\\nvalue = 1.118'),\n",
       " Text(0.09583333333333334, 0.0625, 'squared_error = 0.75\\nsamples = 3606\\nvalue = 0.833'),\n",
       " Text(0.10833333333333334, 0.1875, 'X[2] <= 239.72\\nsquared_error = 8.89\\nsamples = 158\\nvalue = 1.785'),\n",
       " Text(0.10416666666666667, 0.0625, 'squared_error = 19.268\\nsamples = 41\\nvalue = 3.0'),\n",
       " Text(0.1125, 0.0625, 'squared_error = 4.555\\nsamples = 117\\nvalue = 1.359'),\n",
       " Text(0.16979166666666667, 0.5625, 'X[6] <= 2007.5\\nsquared_error = 1.515\\nsamples = 5249\\nvalue = 1.338'),\n",
       " Text(0.13958333333333334, 0.4375, 'X[1] <= 0.221\\nsquared_error = 0.756\\nsamples = 1252\\nvalue = 0.772'),\n",
       " Text(0.12916666666666668, 0.3125, 'X[0] <= 0.807\\nsquared_error = 0.757\\nsamples = 662\\nvalue = 0.61'),\n",
       " Text(0.125, 0.1875, 'X[2] <= 242.545\\nsquared_error = 0.625\\nsamples = 661\\nvalue = 0.596'),\n",
       " Text(0.12083333333333333, 0.0625, 'squared_error = 0.642\\nsamples = 514\\nvalue = 0.667'),\n",
       " Text(0.12916666666666668, 0.0625, 'squared_error = 0.485\\nsamples = 147\\nvalue = 0.347'),\n",
       " Text(0.13333333333333333, 0.1875, 'squared_error = 0.0\\nsamples = 1\\nvalue = 10.0'),\n",
       " Text(0.15, 0.3125, 'X[3] <= 3.1\\nsquared_error = 0.693\\nsamples = 590\\nvalue = 0.953'),\n",
       " Text(0.14166666666666666, 0.1875, 'X[1] <= 0.291\\nsquared_error = 0.594\\nsamples = 547\\nvalue = 0.914'),\n",
       " Text(0.1375, 0.0625, 'squared_error = 0.624\\nsamples = 386\\nvalue = 0.845'),\n",
       " Text(0.14583333333333334, 0.0625, 'squared_error = 0.484\\nsamples = 161\\nvalue = 1.081'),\n",
       " Text(0.15833333333333333, 0.1875, 'X[2] <= 233.215\\nsquared_error = 1.688\\nsamples = 43\\nvalue = 1.442'),\n",
       " Text(0.15416666666666667, 0.0625, 'squared_error = 0.0\\nsamples = 1\\nvalue = 6.0'),\n",
       " Text(0.1625, 0.0625, 'squared_error = 1.222\\nsamples = 42\\nvalue = 1.333'),\n",
       " Text(0.2, 0.4375, 'X[3] <= 2.9\\nsquared_error = 1.62\\nsamples = 3997\\nvalue = 1.515'),\n",
       " Text(0.18333333333333332, 0.3125, 'X[1] <= 0.237\\nsquared_error = 1.011\\nsamples = 3595\\nvalue = 1.423'),\n",
       " Text(0.175, 0.1875, 'X[4] <= 3.5\\nsquared_error = 0.974\\nsamples = 2400\\nvalue = 1.264'),\n",
       " Text(0.17083333333333334, 0.0625, 'squared_error = 0.611\\nsamples = 160\\nvalue = 0.838'),\n",
       " Text(0.17916666666666667, 0.0625, 'squared_error = 0.986\\nsamples = 2240\\nvalue = 1.294'),\n",
       " Text(0.19166666666666668, 0.1875, 'X[1] <= 0.255\\nsquared_error = 0.931\\nsamples = 1195\\nvalue = 1.741'),\n",
       " Text(0.1875, 0.0625, 'squared_error = 0.872\\nsamples = 456\\nvalue = 1.57'),\n",
       " Text(0.19583333333333333, 0.0625, 'squared_error = 0.939\\nsamples = 739\\nvalue = 1.847'),\n",
       " Text(0.21666666666666667, 0.3125, 'X[7] <= 10.5\\nsquared_error = 6.31\\nsamples = 402\\nvalue = 2.343'),\n",
       " Text(0.20833333333333334, 0.1875, 'X[5] <= 6.5\\nsquared_error = 10.136\\nsamples = 89\\nvalue = 3.899'),\n",
       " Text(0.20416666666666666, 0.0625, 'squared_error = 5.841\\nsamples = 42\\nvalue = 2.667'),\n",
       " Text(0.2125, 0.0625, 'squared_error = 11.404\\nsamples = 47\\nvalue = 5.0'),\n",
       " Text(0.225, 0.1875, 'X[4] <= 5.5\\nsquared_error = 4.338\\nsamples = 313\\nvalue = 1.901'),\n",
       " Text(0.22083333333333333, 0.0625, 'squared_error = 0.722\\nsamples = 41\\nvalue = 0.902'),\n",
       " Text(0.22916666666666666, 0.0625, 'squared_error = 4.711\\nsamples = 272\\nvalue = 2.051'),\n",
       " Text(0.36666666666666664, 0.6875, 'X[7] <= 14.5\\nsquared_error = 33.487\\nsamples = 1510\\nvalue = 4.985'),\n",
       " Text(0.3, 0.5625, 'X[2] <= 241.575\\nsquared_error = 38.667\\nsamples = 635\\nvalue = 7.761'),\n",
       " Text(0.26666666666666666, 0.4375, 'X[0] <= 1.093\\nsquared_error = 38.415\\nsamples = 407\\nvalue = 9.027'),\n",
       " Text(0.25, 0.3125, 'X[6] <= 2007.5\\nsquared_error = 30.06\\nsamples = 300\\nvalue = 7.86'),\n",
       " Text(0.24166666666666667, 0.1875, 'X[2] <= 228.765\\nsquared_error = 9.174\\nsamples = 43\\nvalue = 1.419'),\n",
       " Text(0.2375, 0.0625, 'squared_error = 0.0\\nsamples = 1\\nvalue = 15.0'),\n",
       " Text(0.24583333333333332, 0.0625, 'squared_error = 4.896\\nsamples = 42\\nvalue = 1.095'),\n",
       " Text(0.25833333333333336, 0.1875, 'X[1] <= 0.129\\nsquared_error = 25.451\\nsamples = 257\\nvalue = 8.938'),\n",
       " Text(0.25416666666666665, 0.0625, 'squared_error = 27.399\\nsamples = 58\\nvalue = 4.259'),\n",
       " Text(0.2625, 0.0625, 'squared_error = 16.643\\nsamples = 199\\nvalue = 10.302'),\n",
       " Text(0.2833333333333333, 0.3125, 'X[1] <= 0.049\\nsquared_error = 47.312\\nsamples = 107\\nvalue = 12.299'),\n",
       " Text(0.275, 0.1875, 'X[3] <= 5.3\\nsquared_error = 18.155\\nsamples = 58\\nvalue = 15.983'),\n",
       " Text(0.2708333333333333, 0.0625, 'squared_error = 10.5\\nsamples = 56\\nvalue = 16.518'),\n",
       " Text(0.2791666666666667, 0.0625, 'squared_error = 0.0\\nsamples = 2\\nvalue = 1.0'),\n",
       " Text(0.2916666666666667, 0.1875, 'X[2] <= 236.685\\nsquared_error = 46.751\\nsamples = 49\\nvalue = 7.939'),\n",
       " Text(0.2875, 0.0625, 'squared_error = 21.058\\nsamples = 11\\nvalue = 15.182'),\n",
       " Text(0.29583333333333334, 0.0625, 'squared_error = 34.607\\nsamples = 38\\nvalue = 5.842'),\n",
       " Text(0.3333333333333333, 0.4375, 'X[6] <= 2008.5\\nsquared_error = 31.145\\nsamples = 228\\nvalue = 5.5'),\n",
       " Text(0.31666666666666665, 0.3125, 'X[2] <= 242.395\\nsquared_error = 13.849\\nsamples = 87\\nvalue = 1.885'),\n",
       " Text(0.30833333333333335, 0.1875, 'X[4] <= 17.5\\nsquared_error = 22.918\\nsamples = 28\\nvalue = 3.714'),\n",
       " Text(0.30416666666666664, 0.0625, 'squared_error = 4.125\\nsamples = 16\\nvalue = 1.5'),\n",
       " Text(0.3125, 0.0625, 'squared_error = 32.722\\nsamples = 12\\nvalue = 6.667'),\n",
       " Text(0.325, 0.1875, 'X[1] <= 0.233\\nsquared_error = 7.203\\nsamples = 59\\nvalue = 1.017'),\n",
       " Text(0.32083333333333336, 0.0625, 'squared_error = 3.186\\nsamples = 47\\nvalue = 0.489'),\n",
       " Text(0.32916666666666666, 0.0625, 'squared_error = 17.576\\nsamples = 12\\nvalue = 3.083'),\n",
       " Text(0.35, 0.3125, 'X[1] <= 0.126\\nsquared_error = 28.778\\nsamples = 141\\nvalue = 7.73'),\n",
       " Text(0.3416666666666667, 0.1875, 'X[0] <= 0.826\\nsquared_error = 0.917\\nsamples = 24\\nvalue = 1.0'),\n",
       " Text(0.3375, 0.0625, 'squared_error = 0.0\\nsamples = 1\\nvalue = 3.0'),\n",
       " Text(0.3458333333333333, 0.0625, 'squared_error = 0.775\\nsamples = 23\\nvalue = 0.913'),\n",
       " Text(0.35833333333333334, 0.1875, 'X[1] <= 0.279\\nsquared_error = 23.295\\nsamples = 117\\nvalue = 9.111'),\n",
       " Text(0.3541666666666667, 0.0625, 'squared_error = 29.079\\nsamples = 62\\nvalue = 7.597'),\n",
       " Text(0.3625, 0.0625, 'squared_error = 11.276\\nsamples = 55\\nvalue = 10.818'),\n",
       " Text(0.43333333333333335, 0.5625, 'X[1] <= 0.185\\nsquared_error = 20.083\\nsamples = 875\\nvalue = 2.971'),\n",
       " Text(0.4, 0.4375, 'X[2] <= 235.525\\nsquared_error = 12.971\\nsamples = 543\\nvalue = 1.799'),\n",
       " Text(0.38333333333333336, 0.3125, 'X[0] <= 1.089\\nsquared_error = 62.38\\nsamples = 26\\nvalue = 7.346'),\n",
       " Text(0.375, 0.1875, 'X[3] <= 3.5\\nsquared_error = 9.049\\nsamples = 15\\nvalue = 1.467'),\n",
       " Text(0.37083333333333335, 0.0625, 'squared_error = 0.0\\nsamples = 1\\nvalue = 12.0'),\n",
       " Text(0.37916666666666665, 0.0625, 'squared_error = 1.204\\nsamples = 14\\nvalue = 0.714'),\n",
       " Text(0.39166666666666666, 0.1875, 'X[6] <= 2008.5\\nsquared_error = 23.686\\nsamples = 11\\nvalue = 15.364'),\n",
       " Text(0.3875, 0.0625, 'squared_error = 0.09\\nsamples = 10\\nvalue = 16.9'),\n",
       " Text(0.3958333333333333, 0.0625, 'squared_error = 0.0\\nsamples = 1\\nvalue = 0.0'),\n",
       " Text(0.4166666666666667, 0.3125, 'X[0] <= 1.179\\nsquared_error = 8.861\\nsamples = 517\\nvalue = 1.52'),\n",
       " Text(0.4083333333333333, 0.1875, 'X[1] <= 0.115\\nsquared_error = 7.877\\nsamples = 512\\nvalue = 1.455'),\n",
       " Text(0.4041666666666667, 0.0625, 'squared_error = 6.174\\nsamples = 374\\nvalue = 1.163'),\n",
       " Text(0.4125, 0.0625, 'squared_error = 11.635\\nsamples = 138\\nvalue = 2.246'),\n",
       " Text(0.425, 0.1875, 'X[5] <= 8.5\\nsquared_error = 64.56\\nsamples = 5\\nvalue = 8.2'),\n",
       " Text(0.42083333333333334, 0.0625, 'squared_error = 0.0\\nsamples = 2\\nvalue = 18.0'),\n",
       " Text(0.42916666666666664, 0.0625, 'squared_error = 0.889\\nsamples = 3\\nvalue = 1.667'),\n",
       " Text(0.4666666666666667, 0.4375, 'X[6] <= 2007.5\\nsquared_error = 25.792\\nsamples = 332\\nvalue = 4.889'),\n",
       " Text(0.45, 0.3125, 'X[1] <= 0.206\\nsquared_error = 2.272\\nsamples = 49\\nvalue = 1.184'),\n",
       " Text(0.44166666666666665, 0.1875, 'X[0] <= 0.866\\nsquared_error = 5.889\\nsamples = 6\\nvalue = 2.667'),\n",
       " Text(0.4375, 0.0625, 'squared_error = 0.25\\nsamples = 2\\nvalue = 5.5'),\n",
       " Text(0.44583333333333336, 0.0625, 'squared_error = 2.688\\nsamples = 4\\nvalue = 1.25'),\n",
       " Text(0.4583333333333333, 0.1875, 'X[8] <= 4.5\\nsquared_error = 1.418\\nsamples = 43\\nvalue = 0.977'),\n",
       " Text(0.45416666666666666, 0.0625, 'squared_error = 3.806\\nsamples = 6\\nvalue = 1.833'),\n",
       " Text(0.4625, 0.0625, 'squared_error = 0.893\\nsamples = 37\\nvalue = 0.838'),\n",
       " Text(0.48333333333333334, 0.3125, 'X[4] <= 5.5\\nsquared_error = 27.076\\nsamples = 283\\nvalue = 5.53'),\n",
       " Text(0.475, 0.1875, 'X[1] <= 0.386\\nsquared_error = 10.533\\nsamples = 29\\nvalue = 2.862'),\n",
       " Text(0.4708333333333333, 0.0625, 'squared_error = 5.76\\nsamples = 25\\nvalue = 2.2'),\n",
       " Text(0.4791666666666667, 0.0625, 'squared_error = 20.5\\nsamples = 4\\nvalue = 7.0'),\n",
       " Text(0.49166666666666664, 0.1875, 'X[4] <= 8.5\\nsquared_error = 28.059\\nsamples = 254\\nvalue = 5.835'),\n",
       " Text(0.4875, 0.0625, 'squared_error = 26.102\\nsamples = 55\\nvalue = 8.545'),\n",
       " Text(0.49583333333333335, 0.0625, 'squared_error = 26.008\\nsamples = 199\\nvalue = 5.085'),\n",
       " Text(0.7609375, 0.8125, 'X[0] <= 3.489\\nsquared_error = 187.524\\nsamples = 13533\\nvalue = 19.736'),\n",
       " Text(0.6333333333333333, 0.6875, 'X[0] <= 2.535\\nsquared_error = 74.558\\nsamples = 12175\\nvalue = 16.787'),\n",
       " Text(0.5666666666666667, 0.5625, 'X[7] <= 17.5\\nsquared_error = 55.068\\nsamples = 10498\\nvalue = 15.756'),\n",
       " Text(0.5333333333333333, 0.4375, 'X[7] <= 6.5\\nsquared_error = 32.748\\nsamples = 7667\\nvalue = 17.487'),\n",
       " Text(0.5166666666666667, 0.3125, 'X[3] <= 9.3\\nsquared_error = 69.538\\nsamples = 1182\\nvalue = 13.998'),\n",
       " Text(0.5083333333333333, 0.1875, 'X[5] <= 10.5\\nsquared_error = 56.481\\nsamples = 1038\\nvalue = 15.107'),\n",
       " Text(0.5041666666666667, 0.0625, 'squared_error = 50.728\\nsamples = 831\\nvalue = 15.687'),\n",
       " Text(0.5125, 0.0625, 'squared_error = 72.801\\nsamples = 207\\nvalue = 12.778'),\n",
       " Text(0.525, 0.1875, 'X[6] <= 2007.5\\nsquared_error = 90.937\\nsamples = 144\\nvalue = 6.007'),\n",
       " Text(0.5208333333333334, 0.0625, 'squared_error = 40.534\\nsamples = 106\\nvalue = 2.368'),\n",
       " Text(0.5291666666666667, 0.0625, 'squared_error = 91.554\\nsamples = 38\\nvalue = 16.158'),\n",
       " Text(0.55, 0.3125, 'X[0] <= 1.923\\nsquared_error = 23.42\\nsamples = 6485\\nvalue = 18.123'),\n",
       " Text(0.5416666666666666, 0.1875, 'X[7] <= 16.5\\nsquared_error = 15.449\\nsamples = 5441\\nvalue = 17.752'),\n",
       " Text(0.5375, 0.0625, 'squared_error = 12.209\\nsamples = 5136\\nvalue = 17.946'),\n",
       " Text(0.5458333333333333, 0.0625, 'squared_error = 58.709\\nsamples = 305\\nvalue = 14.489'),\n",
       " Text(0.5583333333333333, 0.1875, 'X[6] <= 2007.5\\nsquared_error = 60.515\\nsamples = 1044\\nvalue = 20.055'),\n",
       " Text(0.5541666666666667, 0.0625, 'squared_error = 81.87\\nsamples = 266\\nvalue = 16.117'),\n",
       " Text(0.5625, 0.0625, 'squared_error = 46.099\\nsamples = 778\\nvalue = 21.401'),\n",
       " Text(0.6, 0.4375, 'X[0] <= 2.02\\nsquared_error = 85.405\\nsamples = 2831\\nvalue = 11.066'),\n",
       " Text(0.5833333333333334, 0.3125, 'X[0] <= 1.339\\nsquared_error = 77.295\\nsamples = 2047\\nvalue = 9.743'),\n",
       " Text(0.575, 0.1875, 'X[6] <= 2007.5\\nsquared_error = 62.249\\nsamples = 388\\nvalue = 6.729'),\n",
       " Text(0.5708333333333333, 0.0625, 'squared_error = 68.202\\nsamples = 114\\nvalue = 11.009'),\n",
       " Text(0.5791666666666667, 0.0625, 'squared_error = 48.983\\nsamples = 274\\nvalue = 4.949'),\n",
       " Text(0.5916666666666667, 0.1875, 'X[5] <= 9.5\\nsquared_error = 78.194\\nsamples = 1659\\nvalue = 10.447'),\n",
       " Text(0.5875, 0.0625, 'squared_error = 76.868\\nsamples = 1202\\nvalue = 11.324'),\n",
       " Text(0.5958333333333333, 0.0625, 'squared_error = 74.35\\nsamples = 457\\nvalue = 8.142'),\n",
       " Text(0.6166666666666667, 0.3125, 'X[6] <= 2008.5\\nsquared_error = 90.063\\nsamples = 784\\nvalue = 14.522'),\n",
       " Text(0.6083333333333333, 0.1875, 'X[5] <= 9.5\\nsquared_error = 102.708\\nsamples = 402\\nvalue = 12.622'),\n",
       " Text(0.6041666666666666, 0.0625, 'squared_error = 105.12\\nsamples = 263\\nvalue = 13.821'),\n",
       " Text(0.6125, 0.0625, 'squared_error = 90.271\\nsamples = 139\\nvalue = 10.353'),\n",
       " Text(0.625, 0.1875, 'X[0] <= 2.253\\nsquared_error = 68.962\\nsamples = 382\\nvalue = 16.521'),\n",
       " Text(0.6208333333333333, 0.0625, 'squared_error = 78.2\\nsamples = 185\\nvalue = 14.632'),\n",
       " Text(0.6291666666666667, 0.0625, 'squared_error = 53.791\\nsamples = 197\\nvalue = 18.294'),\n",
       " Text(0.7, 0.5625, 'X[7] <= 16.5\\nsquared_error = 148.243\\nsamples = 1677\\nvalue = 23.242'),\n",
       " Text(0.6666666666666666, 0.4375, 'X[7] <= 9.5\\nsquared_error = 169.862\\nsamples = 699\\nvalue = 27.159'),\n",
       " Text(0.65, 0.3125, 'X[2] <= 235.505\\nsquared_error = 113.439\\nsamples = 343\\nvalue = 20.787'),\n",
       " Text(0.6416666666666667, 0.1875, 'X[0] <= 3.302\\nsquared_error = 294.96\\nsamples = 30\\nvalue = 28.8'),\n",
       " Text(0.6375, 0.0625, 'squared_error = 162.927\\nsamples = 20\\nvalue = 21.85'),\n",
       " Text(0.6458333333333334, 0.0625, 'squared_error = 269.21\\nsamples = 10\\nvalue = 42.7'),\n",
       " Text(0.6583333333333333, 0.1875, 'X[4] <= 5.5\\nsquared_error = 89.297\\nsamples = 313\\nvalue = 20.019'),\n",
       " Text(0.6541666666666667, 0.0625, 'squared_error = 51.802\\nsamples = 63\\nvalue = 16.444'),\n",
       " Text(0.6625, 0.0625, 'squared_error = 94.714\\nsamples = 250\\nvalue = 20.92'),\n",
       " Text(0.6833333333333333, 0.3125, 'X[3] <= 13.7\\nsquared_error = 147.423\\nsamples = 356\\nvalue = 33.298'),\n",
       " Text(0.675, 0.1875, 'X[1] <= 0.393\\nsquared_error = 126.377\\nsamples = 281\\nvalue = 31.26'),\n",
       " Text(0.6708333333333333, 0.0625, 'squared_error = 124.562\\nsamples = 242\\nvalue = 32.744'),\n",
       " Text(0.6791666666666667, 0.0625, 'squared_error = 39.177\\nsamples = 39\\nvalue = 22.051'),\n",
       " Text(0.6916666666666667, 0.1875, 'X[1] <= 0.271\\nsquared_error = 152.409\\nsamples = 75\\nvalue = 40.933'),\n",
       " Text(0.6875, 0.0625, 'squared_error = 142.201\\nsamples = 48\\nvalue = 44.417'),\n",
       " Text(0.6958333333333333, 0.0625, 'squared_error = 110.636\\nsamples = 27\\nvalue = 34.741'),\n",
       " Text(0.7333333333333333, 0.4375, 'X[3] <= 14.1\\nsquared_error = 113.985\\nsamples = 978\\nvalue = 20.442'),\n",
       " Text(0.7166666666666667, 0.3125, 'X[6] <= 2008.5\\nsquared_error = 105.992\\nsamples = 884\\nvalue = 19.834'),\n",
       " Text(0.7083333333333334, 0.1875, 'X[4] <= 9.5\\nsquared_error = 121.29\\nsamples = 525\\nvalue = 18.49'),\n",
       " Text(0.7041666666666667, 0.0625, 'squared_error = 116.909\\nsamples = 122\\nvalue = 22.025'),\n",
       " Text(0.7125, 0.0625, 'squared_error = 117.688\\nsamples = 403\\nvalue = 17.419'),\n",
       " Text(0.725, 0.1875, 'X[7] <= 21.5\\nsquared_error = 77.113\\nsamples = 359\\nvalue = 21.799'),\n",
       " Text(0.7208333333333333, 0.0625, 'squared_error = 66.282\\nsamples = 300\\nvalue = 20.703'),\n",
       " Text(0.7291666666666666, 0.0625, 'squared_error = 95.014\\nsamples = 59\\nvalue = 27.373'),\n",
       " Text(0.75, 0.3125, 'X[4] <= 3.5\\nsquared_error = 152.985\\nsamples = 94\\nvalue = 26.16'),\n",
       " Text(0.7416666666666667, 0.1875, 'X[8] <= 4.5\\nsquared_error = 70.16\\nsamples = 10\\nvalue = 16.2'),\n",
       " Text(0.7375, 0.0625, 'squared_error = 84.667\\nsamples = 3\\nvalue = 7.0'),\n",
       " Text(0.7458333333333333, 0.0625, 'squared_error = 12.122\\nsamples = 7\\nvalue = 20.143'),\n",
       " Text(0.7583333333333333, 0.1875, 'X[4] <= 11.5\\nsquared_error = 149.631\\nsamples = 84\\nvalue = 27.345'),\n",
       " Text(0.7541666666666667, 0.0625, 'squared_error = 159.845\\nsamples = 22\\nvalue = 34.864'),\n",
       " Text(0.7625, 0.0625, 'squared_error = 118.831\\nsamples = 62\\nvalue = 24.677'),\n",
       " Text(0.8885416666666667, 0.6875, 'X[0] <= 5.581\\nsquared_error = 423.408\\nsamples = 1358\\nvalue = 46.173'),\n",
       " Text(0.8333333333333334, 0.5625, 'X[7] <= 7.5\\nsquared_error = 312.437\\nsamples = 1210\\nvalue = 43.074'),\n",
       " Text(0.8, 0.4375, 'X[7] <= 3.5\\nsquared_error = 334.045\\nsamples = 122\\nvalue = 26.934'),\n",
       " Text(0.7833333333333333, 0.3125, 'X[8] <= 13.5\\nsquared_error = 488.164\\nsamples = 29\\nvalue = 37.207'),\n",
       " Text(0.775, 0.1875, 'X[4] <= 20.5\\nsquared_error = 395.16\\nsamples = 10\\nvalue = 21.8'),\n",
       " Text(0.7708333333333334, 0.0625, 'squared_error = 64.556\\nsamples = 6\\nvalue = 6.667'),\n",
       " Text(0.7791666666666667, 0.0625, 'squared_error = 32.25\\nsamples = 4\\nvalue = 44.5'),\n",
       " Text(0.7916666666666666, 0.1875, 'X[8] <= 22.0\\nsquared_error = 346.427\\nsamples = 19\\nvalue = 45.316'),\n",
       " Text(0.7875, 0.0625, 'squared_error = 60.188\\nsamples = 4\\nvalue = 66.75'),\n",
       " Text(0.7958333333333333, 0.0625, 'squared_error = 267.573\\nsamples = 15\\nvalue = 39.6'),\n",
       " Text(0.8166666666666667, 0.3125, 'X[7] <= 6.5\\nsquared_error = 242.82\\nsamples = 93\\nvalue = 23.731'),\n",
       " Text(0.8083333333333333, 0.1875, 'X[1] <= 0.235\\nsquared_error = 115.594\\nsamples = 31\\nvalue = 15.774'),\n",
       " Text(0.8041666666666667, 0.0625, 'squared_error = 58.81\\nsamples = 28\\nvalue = 13.893'),\n",
       " Text(0.8125, 0.0625, 'squared_error = 304.222\\nsamples = 3\\nvalue = 33.333'),\n",
       " Text(0.825, 0.1875, 'X[8] <= 53.5\\nsquared_error = 258.948\\nsamples = 62\\nvalue = 27.71'),\n",
       " Text(0.8208333333333333, 0.0625, 'squared_error = 188.702\\nsamples = 52\\nvalue = 24.596'),\n",
       " Text(0.8291666666666667, 0.0625, 'squared_error = 311.69\\nsamples = 10\\nvalue = 43.9'),\n",
       " Text(0.8666666666666667, 0.4375, 'X[7] <= 16.5\\nsquared_error = 277.531\\nsamples = 1088\\nvalue = 44.883'),\n",
       " Text(0.85, 0.3125, 'X[0] <= 5.226\\nsquared_error = 161.13\\nsamples = 469\\nvalue = 52.64'),\n",
       " Text(0.8416666666666667, 0.1875, 'X[6] <= 2007.5\\nsquared_error = 146.817\\nsamples = 453\\nvalue = 51.907'),\n",
       " Text(0.8375, 0.0625, 'squared_error = 214.625\\nsamples = 160\\nvalue = 48.481'),\n",
       " Text(0.8458333333333333, 0.0625, 'squared_error = 99.879\\nsamples = 293\\nvalue = 53.778'),\n",
       " Text(0.8583333333333333, 0.1875, 'X[6] <= 2009.5\\nsquared_error = 121.234\\nsamples = 16\\nvalue = 73.375'),\n",
       " Text(0.8541666666666666, 0.0625, 'squared_error = 79.495\\nsamples = 14\\nvalue = 76.071'),\n",
       " Text(0.8625, 0.0625, 'squared_error = 6.25\\nsamples = 2\\nvalue = 54.5'),\n",
       " Text(0.8833333333333333, 0.3125, 'X[0] <= 4.329\\nsquared_error = 285.606\\nsamples = 619\\nvalue = 39.006'),\n",
       " Text(0.875, 0.1875, 'X[5] <= 9.5\\nsquared_error = 267.646\\nsamples = 378\\nvalue = 33.394'),\n",
       " Text(0.8708333333333333, 0.0625, 'squared_error = 264.496\\nsamples = 258\\nvalue = 36.124'),\n",
       " Text(0.8791666666666667, 0.0625, 'squared_error = 223.949\\nsamples = 120\\nvalue = 27.525'),\n",
       " Text(0.8916666666666667, 0.1875, 'X[0] <= 4.833\\nsquared_error = 186.885\\nsamples = 241\\nvalue = 47.809'),\n",
       " Text(0.8875, 0.0625, 'squared_error = 216.858\\nsamples = 133\\nvalue = 43.88'),\n",
       " Text(0.8958333333333334, 0.0625, 'squared_error = 107.543\\nsamples = 108\\nvalue = 52.648'),\n",
       " Text(0.94375, 0.5625, 'X[7] <= 6.5\\nsquared_error = 609.993\\nsamples = 148\\nvalue = 71.514'),\n",
       " Text(0.9208333333333333, 0.4375, 'X[8] <= 33.5\\nsquared_error = 502.29\\nsamples = 10\\nvalue = 31.1'),\n",
       " Text(0.9125, 0.3125, 'X[3] <= 28.7\\nsquared_error = 54.222\\nsamples = 3\\nvalue = 64.667'),\n",
       " Text(0.9083333333333333, 0.1875, 'X[4] <= 16.5\\nsquared_error = 16.0\\nsamples = 2\\nvalue = 60.0'),\n",
       " Text(0.9041666666666667, 0.0625, 'squared_error = 0.0\\nsamples = 1\\nvalue = 56.0'),\n",
       " Text(0.9125, 0.0625, 'squared_error = 0.0\\nsamples = 1\\nvalue = 64.0'),\n",
       " Text(0.9166666666666666, 0.1875, 'squared_error = 0.0\\nsamples = 1\\nvalue = 74.0'),\n",
       " Text(0.9291666666666667, 0.3125, 'X[2] <= 239.205\\nsquared_error = 4.49\\nsamples = 7\\nvalue = 16.714'),\n",
       " Text(0.925, 0.1875, 'X[2] <= 235.965\\nsquared_error = 0.917\\nsamples = 6\\nvalue = 17.5'),\n",
       " Text(0.9208333333333333, 0.0625, 'squared_error = 0.222\\nsamples = 3\\nvalue = 16.667'),\n",
       " Text(0.9291666666666667, 0.0625, 'squared_error = 0.222\\nsamples = 3\\nvalue = 18.333'),\n",
       " Text(0.9333333333333333, 0.1875, 'squared_error = 0.0\\nsamples = 1\\nvalue = 12.0'),\n",
       " Text(0.9666666666666667, 0.4375, 'X[7] <= 17.5\\nsquared_error = 490.87\\nsamples = 138\\nvalue = 74.442'),\n",
       " Text(0.95, 0.3125, 'X[0] <= 7.224\\nsquared_error = 341.059\\nsamples = 64\\nvalue = 86.062'),\n",
       " Text(0.9416666666666667, 0.1875, 'X[2] <= 239.065\\nsquared_error = 282.787\\nsamples = 59\\nvalue = 83.576'),\n",
       " Text(0.9375, 0.0625, 'squared_error = 182.69\\nsamples = 55\\nvalue = 85.764'),\n",
       " Text(0.9458333333333333, 0.0625, 'squared_error = 688.75\\nsamples = 4\\nvalue = 53.5'),\n",
       " Text(0.9583333333333334, 0.1875, 'X[5] <= 3.5\\nsquared_error = 95.04\\nsamples = 5\\nvalue = 115.4'),\n",
       " Text(0.9541666666666667, 0.0625, 'squared_error = 32.889\\nsamples = 3\\nvalue = 108.333'),\n",
       " Text(0.9625, 0.0625, 'squared_error = 1.0\\nsamples = 2\\nvalue = 126.0'),\n",
       " Text(0.9833333333333333, 0.3125, 'X[0] <= 7.001\\nsquared_error = 402.644\\nsamples = 74\\nvalue = 64.392'),\n",
       " Text(0.975, 0.1875, 'X[5] <= 4.5\\nsquared_error = 353.478\\nsamples = 59\\nvalue = 59.339'),\n",
       " Text(0.9708333333333333, 0.0625, 'squared_error = 321.7\\nsamples = 20\\nvalue = 51.0'),\n",
       " Text(0.9791666666666666, 0.0625, 'squared_error = 315.826\\nsamples = 39\\nvalue = 63.615'),\n",
       " Text(0.9916666666666667, 0.1875, 'X[4] <= 19.0\\nsquared_error = 100.596\\nsamples = 15\\nvalue = 84.267'),\n",
       " Text(0.9875, 0.0625, 'squared_error = 158.889\\nsamples = 6\\nvalue = 77.333'),\n",
       " Text(0.9958333333333333, 0.0625, 'squared_error = 8.321\\nsamples = 9\\nvalue = 88.889')]"
      ]
     },
     "execution_count": 52,
     "metadata": {},
     "output_type": "execute_result"
    },
    {
     "data": {
      "image/png": "[encoded data removed]",
      "text/plain": [
       "<Figure size 1080x720 with 1 Axes>"
      ]
     },
     "metadata": {
      "needs_background": "light"
     },
     "output_type": "display_data"
    }
   ],
   "source": [
    "from sklearn import tree\n",
    "import matplotlib.pyplot as plt\n",
    "%matplotlib inline\n",
    "\n",
    "plt.figure(figsize=(15,10))\n",
    "tree.plot_tree(regressor_best_param,filled=True,fontsize=10)"
   ]
  },
  {
   "cell_type": "code",
   "execution_count": null,
   "metadata": {
    "id": "daQN5KUYmPYL"
   },
   "outputs": [],
   "source": []
  }
 ],
 "metadata": {
  "accelerator": "GPU",
  "colab": {
   "collapsed_sections": [],
   "provenance": []
  },
  "gpuClass": "standard",
  "kernelspec": {
   "display_name": "Python 3 (ipykernel)",
   "language": "python",
   "name": "python3"
  },
  "language_info": {
   "codemirror_mode": {
    "name": "ipython",
    "version": 3
   },
   "file_extension": ".py",
   "mimetype": "text/x-python",
   "name": "python",
   "nbconvert_exporter": "python",
   "pygments_lexer": "ipython3",
   "version": "3.9.7"
  }
 },
 "nbformat": 4,
 "nbformat_minor": 1
}
